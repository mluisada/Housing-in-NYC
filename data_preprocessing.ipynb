{
 "cells": [
  {
   "cell_type": "markdown",
   "metadata": {},
   "source": [
    "# Import library"
   ]
  },
  {
   "cell_type": "code",
   "execution_count": 1,
   "metadata": {
    "collapsed": true
   },
   "outputs": [],
   "source": [
    "import pandas as pd\n",
    "import numpy as np\n",
    "import matplotlib.pyplot as plt\n",
    "import csv\n",
    "import re\n",
    "import math\n",
    "import urllib.request as ul \n",
    "from bs4 import BeautifulSoup"
   ]
  },
  {
   "cell_type": "code",
   "execution_count": 2,
   "metadata": {
    "collapsed": false
   },
   "outputs": [],
   "source": [
    "%matplotlib inline"
   ]
  },
  {
   "cell_type": "code",
   "execution_count": 3,
   "metadata": {
    "collapsed": true
   },
   "outputs": [],
   "source": [
    "import csv"
   ]
  },
  {
   "cell_type": "code",
   "execution_count": 5,
   "metadata": {
    "collapsed": false
   },
   "outputs": [],
   "source": [
    "df = pd.read_csv(\"listings.csv\")"
   ]
  },
  {
   "cell_type": "markdown",
   "metadata": {},
   "source": [
    "# Webscrapping to get the table of the boroughs, neighborhoods and zip codes"
   ]
  },
  {
   "cell_type": "code",
   "execution_count": 6,
   "metadata": {
    "collapsed": false
   },
   "outputs": [
    {
     "name": "stdout",
     "output_type": "stream",
     "text": [
      "Manhattan\n",
      "Chelsea and Clinton\n",
      "10001\n"
     ]
    }
   ],
   "source": [
    "url = \"https://www.health.ny.gov/statistics/cancer/registry/appendix/neighborhoods.htm\"\n",
    "\n",
    "url_response=ul.urlopen(url, timeout=5)\n",
    "soup = BeautifulSoup(url_response)\n",
    "\n",
    "#table we are looking into\n",
    "table = soup.find_all('table')[0]\n",
    "\n",
    "#borough: list of boroughs, neighborhood: list of neighborhoods, zip_code: list of zip codes\n",
    "borough = list()\n",
    "neighborhood = list()\n",
    "zip_code = list()\n",
    "zip_code_unique = list()\n",
    "length = list()\n",
    "\n",
    "#patterns for regular expressions - found printing table.find_all('tr')\n",
    "pattern_borough = '\"header1.+>(.+)</td>' \n",
    "pattern_neighborhood = '\"header2\">\\s(.+)</td>'\n",
    "pattern_zip = '\"header3\">\\s(.+)</td>'\n",
    "\n",
    "for line in table.find_all('td'):\n",
    "    regex_borough = re.compile(pattern_borough) \n",
    "    borough.extend(regex_borough.findall(str(line)))\n",
    "    \n",
    "    regex_neighborhood = re.compile(pattern_neighborhood) \n",
    "    neighborhood.extend(regex_neighborhood.findall(str(line)))\n",
    "    \n",
    "    if len(neighborhood) > len(borough):\n",
    "        borough.append(borough[-1])\n",
    "        \n",
    "    regex_zip = re.compile(pattern_zip) \n",
    "    zip_code.extend(regex_zip.findall(str(line)))  \n",
    "    \n",
    "#print(borough)\n",
    "#print(neighborhood)\n",
    "#print(zip_code)\n",
    "\n",
    "#code to split the zip codes\n",
    "for i in range(len(zip_code)):\n",
    "    regex_zip2 = re.compile('(\\s*[,]\\s*)')\n",
    "    zip_ext = regex_zip.sub(',', zip_code[i]).split(',')\n",
    "    \n",
    "    #list of unique zip codes\n",
    "    zip_code_unique.extend(zip_ext)\n",
    "    #number of split realized to get the corresponding borough and neighborhood\n",
    "    length.append(len(zip_ext))\n",
    "    \n",
    "#code to duplicate the borough and neighborhood so that one given index gives both information\n",
    "#must have a reverse loop to insert at the appropriate location\n",
    "for i in range(len(borough))[::-1]:\n",
    "    j = 0\n",
    "    #j is a counter to insert the same borough/neighborhood at the given index\n",
    "    while length[i] - j > 1:\n",
    "        borough.insert(i, borough[i])\n",
    "        neighborhood.insert(i, neighborhood[i])\n",
    "        j += 1\n",
    "\n",
    "#Test to compare with the table\n",
    "i = 67\n",
    "print(borough[i])\n",
    "print(neighborhood[i])\n",
    "print(zip_code_unique[i])\n",
    "\n",
    "#print(len(borough))\n",
    "#print(len(neighborhood))\n",
    "#print(len(zip_code_unique))\n",
    "#178 rows: sanity check ok done with Excel\n",
    "    "
   ]
  },
  {
   "cell_type": "code",
   "execution_count": 7,
   "metadata": {
    "collapsed": false
   },
   "outputs": [
    {
     "name": "stdout",
     "output_type": "stream",
     "text": [
      "['10453', '10457', '10460', '10458', '10467', '10468', '10451', '10452', '10456', '10454', '10455', '10459', '10474', '10463', '10471', '10466', '10469', '10470', '10475', '10461', '10462', '10464', '10465', '10472', '10473', '11212', '11213', '11216', '11233', '11238', '11209', '11214', '11228', '11204', '11218', '11219', '11230', '11234', '11236', '11239', '11223', '11224', '11229', '11235', '11201', '11205', '11215', '11217', '11231', '11203', '11210', '11225', '11226', '11207', '11208', '11211', '11222', '11220', '11232', '11206', '11221', '11237', '10026', '10027', '10030', '10037', '10039', '10001', '10011', '10018', '10019', '10020', '10036', '10029', '10035', '10010', '10016', '10017', '10022', '10012', '10013', '10014', '10004', '10005', '10006', '10007', '10038', '10280', '10002', '10003', '10009', '10021', '10028', '10044', '10065', '10075', '10128', '10023', '10024', '10025', '10031', '10032', '10033', '10034', '10040', '11361', '11362', '11363', '11364', '11354', '11355', '11356', '11357', '11358', '11359', '11360', '11365', '11366', '11367', '11412', '11423', '11432', '11433', '11434', '11435', '11436', '11101', '11102', '11103', '11104', '11105', '11106', '11374', '11375', '11379', '11385', '11691', '11692', '11693', '11694', '11695', '11697', '11004', '11005', '11411', '11413', '11422', '11426', '11427', '11428', '11429', '11414', '11415', '11416', '11417', '11418', '11419', '11420', '11421', '11368', '11369', '11370', '11372', '11373', '11377', '11378', '10302', '10303', '10310', '10306', '10307', '10308', '10309', '10312', '10301', '10304', '10305', '10314']\n"
     ]
    }
   ],
   "source": [
    "#cleaning the zip_code_unique list to avoid \" \"\n",
    "#print(zip_code_unique)\n",
    "for i in range(len(zip_code_unique)):\n",
    "    if len(zip_code_unique[i]) == 6:\n",
    "        zip_code_unique[i] = zip_code_unique[i][1:6]\n",
    "        \n",
    "print(zip_code_unique)"
   ]
  },
  {
   "cell_type": "markdown",
   "metadata": {},
   "source": [
    "# Raw data"
   ]
  },
  {
   "cell_type": "code",
   "execution_count": 8,
   "metadata": {
    "collapsed": false,
    "scrolled": true
   },
   "outputs": [],
   "source": [
    "data0 = pd.read_csv('listings.csv')"
   ]
  },
  {
   "cell_type": "code",
   "execution_count": 9,
   "metadata": {
    "collapsed": false,
    "scrolled": false
   },
   "outputs": [
    {
     "data": {
      "text/plain": [
       "array(['id', 'scrape_id', 'last_scraped', 'name', 'picture_url', 'host_id',\n",
       "       'host_name', 'host_since', 'host_picture_url', 'street',\n",
       "       'neighbourhood', 'neighbourhood_cleansed', 'city', 'state',\n",
       "       'zipcode', 'market', 'country', 'latitude', 'longitude',\n",
       "       'is_location_exact', 'property_type', 'room_type', 'accommodates',\n",
       "       'bathrooms', 'bedrooms', 'beds', 'bed_type', 'square_feet', 'price',\n",
       "       'weekly_price', 'monthly_price', 'guests_included', 'extra_people',\n",
       "       'minimum_nights', 'maximum_nights', 'calendar_updated',\n",
       "       'availability_30', 'availability_60', 'availability_90',\n",
       "       'availability_365', 'calendar_last_scraped', 'number_of_reviews',\n",
       "       'first_review', 'last_review', 'review_scores_rating',\n",
       "       'review_scores_accuracy', 'review_scores_cleanliness',\n",
       "       'review_scores_checkin', 'review_scores_communication',\n",
       "       'review_scores_location', 'review_scores_value',\n",
       "       'host_listing_count'], dtype=object)"
      ]
     },
     "execution_count": 9,
     "metadata": {},
     "output_type": "execute_result"
    }
   ],
   "source": [
    "# list of all variables\n",
    "data0.columns.values"
   ]
  },
  {
   "cell_type": "code",
   "execution_count": 10,
   "metadata": {
    "collapsed": false
   },
   "outputs": [
    {
     "data": {
      "text/plain": [
       "27392"
      ]
     },
     "execution_count": 10,
     "metadata": {},
     "output_type": "execute_result"
    }
   ],
   "source": [
    "nrow = len(data0.index)\n",
    "nrow"
   ]
  },
  {
   "cell_type": "markdown",
   "metadata": {},
   "source": [
    "# Select relevant variables"
   ]
  },
  {
   "cell_type": "code",
   "execution_count": 11,
   "metadata": {
    "collapsed": true
   },
   "outputs": [],
   "source": [
    "data = data0[['name', 'neighbourhood_cleansed', 'city', 'zipcode', 'latitude', 'longitude', 'is_location_exact',\n",
    "          'property_type', 'room_type', 'accommodates','bathrooms', 'bedrooms', 'beds', 'square_feet', 'price',\n",
    "           'weekly_price', 'monthly_price', 'review_scores_value']]"
   ]
  },
  {
   "cell_type": "code",
   "execution_count": 12,
   "metadata": {
    "collapsed": false,
    "scrolled": true
   },
   "outputs": [
    {
     "data": {
      "text/html": [
       "<div>\n",
       "<table border=\"1\" class=\"dataframe\">\n",
       "  <thead>\n",
       "    <tr style=\"text-align: right;\">\n",
       "      <th></th>\n",
       "      <th>name</th>\n",
       "      <th>neighbourhood_cleansed</th>\n",
       "      <th>city</th>\n",
       "      <th>zipcode</th>\n",
       "      <th>latitude</th>\n",
       "      <th>longitude</th>\n",
       "      <th>is_location_exact</th>\n",
       "      <th>property_type</th>\n",
       "      <th>room_type</th>\n",
       "      <th>accommodates</th>\n",
       "      <th>bathrooms</th>\n",
       "      <th>bedrooms</th>\n",
       "      <th>beds</th>\n",
       "      <th>square_feet</th>\n",
       "      <th>price</th>\n",
       "      <th>weekly_price</th>\n",
       "      <th>monthly_price</th>\n",
       "      <th>review_scores_value</th>\n",
       "    </tr>\n",
       "  </thead>\n",
       "  <tbody>\n",
       "    <tr>\n",
       "      <th>0</th>\n",
       "      <td>Stay like a real New Yorker!</td>\n",
       "      <td>Midtown East</td>\n",
       "      <td>New York</td>\n",
       "      <td>10022</td>\n",
       "      <td>40.756852</td>\n",
       "      <td>-73.964754</td>\n",
       "      <td>t</td>\n",
       "      <td>Apartment</td>\n",
       "      <td>Entire home/apt</td>\n",
       "      <td>2</td>\n",
       "      <td>1</td>\n",
       "      <td>1</td>\n",
       "      <td>1</td>\n",
       "      <td>NaN</td>\n",
       "      <td>$160.00</td>\n",
       "      <td>$1,000.00</td>\n",
       "      <td>NaN</td>\n",
       "      <td>9</td>\n",
       "    </tr>\n",
       "    <tr>\n",
       "      <th>1</th>\n",
       "      <td>Apartment 20 Minutes Times Square</td>\n",
       "      <td>Hamilton Heights</td>\n",
       "      <td>New York</td>\n",
       "      <td>NaN</td>\n",
       "      <td>40.830599</td>\n",
       "      <td>-73.941014</td>\n",
       "      <td>f</td>\n",
       "      <td>Apartment</td>\n",
       "      <td>Entire home/apt</td>\n",
       "      <td>10</td>\n",
       "      <td>1</td>\n",
       "      <td>3</td>\n",
       "      <td>3</td>\n",
       "      <td>NaN</td>\n",
       "      <td>$105.00</td>\n",
       "      <td>NaN</td>\n",
       "      <td>NaN</td>\n",
       "      <td>8</td>\n",
       "    </tr>\n",
       "  </tbody>\n",
       "</table>\n",
       "</div>"
      ],
      "text/plain": [
       "                                name neighbourhood_cleansed      city zipcode  \\\n",
       "0      Stay like a real New Yorker!            Midtown East  New York   10022   \n",
       "1  Apartment 20 Minutes Times Square       Hamilton Heights  New York     NaN   \n",
       "\n",
       "    latitude  longitude is_location_exact property_type        room_type  \\\n",
       "0  40.756852 -73.964754                 t     Apartment  Entire home/apt   \n",
       "1  40.830599 -73.941014                 f     Apartment  Entire home/apt   \n",
       "\n",
       "   accommodates  bathrooms  bedrooms  beds  square_feet    price weekly_price  \\\n",
       "0             2          1         1     1          NaN  $160.00    $1,000.00   \n",
       "1            10          1         3     3          NaN  $105.00          NaN   \n",
       "\n",
       "  monthly_price  review_scores_value  \n",
       "0           NaN                    9  \n",
       "1           NaN                    8  "
      ]
     },
     "execution_count": 12,
     "metadata": {},
     "output_type": "execute_result"
    }
   ],
   "source": [
    "data.head(2)"
   ]
  },
  {
   "cell_type": "markdown",
   "metadata": {},
   "source": [
    "# Cleaning data"
   ]
  },
  {
   "cell_type": "markdown",
   "metadata": {},
   "source": [
    "## Prices : convert into right format, replace missing values"
   ]
  },
  {
   "cell_type": "code",
   "execution_count": 13,
   "metadata": {
    "collapsed": false
   },
   "outputs": [],
   "source": [
    "day_price = []\n",
    "for i in range(nrow):\n",
    "    # remove commas ans $ sign, convert into float\n",
    "    day_price.append((float(data.price[i].replace(',','')[1:])))\n",
    "\n",
    "    \n",
    "# there are null values for weekly / monthly prices\n",
    "# use daily price to fill missing values\n",
    "\n",
    "week_price, month_price = [], []    \n",
    "for i in range(nrow):\n",
    "    if pd.isnull(data.weekly_price[i]) == True :\n",
    "        week_price.append(7*day_price[i])\n",
    "    else :\n",
    "        week_price.append(float(data.weekly_price[i].replace(',','')[1:]))\n",
    "        \n",
    "for i in range(nrow):\n",
    "    if pd.isnull(data.monthly_price[i]) == True :\n",
    "        month_price.append(30*day_price[i])\n",
    "    else :\n",
    "        month_price.append(float(data.monthly_price[i].replace(',','')[1:]))"
   ]
  },
  {
   "cell_type": "code",
   "execution_count": 14,
   "metadata": {
    "collapsed": false
   },
   "outputs": [],
   "source": [
    "data = data.drop(['price', 'weekly_price', 'monthly_price'], axis = 1)"
   ]
  },
  {
   "cell_type": "code",
   "execution_count": 15,
   "metadata": {
    "collapsed": false
   },
   "outputs": [],
   "source": [
    "data['day_price'] = day_price\n",
    "data['week_price'] = week_price\n",
    "data['month_price'] = month_price"
   ]
  },
  {
   "cell_type": "markdown",
   "metadata": {},
   "source": [
    "## New variable : monthly price per square foot"
   ]
  },
  {
   "cell_type": "code",
   "execution_count": 16,
   "metadata": {
    "collapsed": false
   },
   "outputs": [],
   "source": [
    "price_sqft = []\n",
    "for i in range(nrow):\n",
    "    if pd.isnull(data.square_feet[i]) == False and data.square_feet[i] != 0:\n",
    "        price_sqft.append(round(data.month_price[i]/data.square_feet[i], 2))\n",
    "    else :\n",
    "        price_sqft.append(None)"
   ]
  },
  {
   "cell_type": "code",
   "execution_count": 17,
   "metadata": {
    "collapsed": false
   },
   "outputs": [],
   "source": [
    "data['price_sqft'] = price_sqft"
   ]
  },
  {
   "cell_type": "markdown",
   "metadata": {},
   "source": [
    "## Aggregate neighbourhoods"
   ]
  },
  {
   "cell_type": "code",
   "execution_count": 18,
   "metadata": {
    "collapsed": false
   },
   "outputs": [
    {
     "data": {
      "text/plain": [
       "186"
      ]
     },
     "execution_count": 18,
     "metadata": {},
     "output_type": "execute_result"
    }
   ],
   "source": [
    "len(set(data.neighbourhood_cleansed)) \n",
    "# 186 different values with duplicates sometimes"
   ]
  },
  {
   "cell_type": "markdown",
   "metadata": {},
   "source": [
    "There are too many different names of neighborhoods. Sometimes, two names represent the same district. We rename them using the zipcodes. This website gives the correspondence between zipcodes, districts and neighborhoods. https://www.health.ny.gov/statistics/cancer/registry/appendix/neighborhoods.htm"
   ]
  },
  {
   "cell_type": "markdown",
   "metadata": {},
   "source": [
    "We verify that there are not many missing values in the zipcode column less than 1%"
   ]
  },
  {
   "cell_type": "code",
   "execution_count": 19,
   "metadata": {
    "collapsed": false
   },
   "outputs": [
    {
     "data": {
      "text/plain": [
       "0.9940858644859814"
      ]
     },
     "execution_count": 19,
     "metadata": {},
     "output_type": "execute_result"
    }
   ],
   "source": [
    "# list of indices where zipcode is missing\n",
    "non_missing_zip = [ind for ind in range(nrow) if pd.isnull(data.zipcode)[ind] == False] \n",
    "# get the proportion\n",
    "len(non_missing_zip)/nrow \n",
    "# returns 0.994"
   ]
  },
  {
   "cell_type": "markdown",
   "metadata": {},
   "source": [
    "We can remove these missing values"
   ]
  },
  {
   "cell_type": "code",
   "execution_count": 20,
   "metadata": {
    "collapsed": true
   },
   "outputs": [],
   "source": [
    "data = data.ix[non_missing_zip,]\n",
    "# reset indices\n",
    "data = data.reset_index()"
   ]
  },
  {
   "cell_type": "code",
   "execution_count": 21,
   "metadata": {
    "collapsed": true
   },
   "outputs": [],
   "source": [
    "# update new number rows\n",
    "nrow = len(data.index)"
   ]
  },
  {
   "cell_type": "markdown",
   "metadata": {},
   "source": [
    "### Clean borough names, neighborhood names"
   ]
  },
  {
   "cell_type": "code",
   "execution_count": 22,
   "metadata": {
    "collapsed": false
   },
   "outputs": [],
   "source": [
    "borough_table = list()\n",
    "neighborhood_table = list()\n",
    "for i in range(nrow):\n",
    "    if data.zipcode[i] in zip_code_unique:\n",
    "        borough_table.append(borough[zip_code_unique.index(data.zipcode[i])])\n",
    "        neighborhood_table.append(neighborhood[zip_code_unique.index(data.zipcode[i])])\n",
    "    else:\n",
    "        borough_table.append(\" N/A \")\n",
    "        neighborhood_table.append(\" N/A \")\n",
    "    \n",
    "#print(borough_table)"
   ]
  },
  {
   "cell_type": "code",
   "execution_count": 23,
   "metadata": {
    "collapsed": false
   },
   "outputs": [],
   "source": [
    "data['borough'] = borough_table\n",
    "data['district'] = neighborhood_table"
   ]
  },
  {
   "cell_type": "code",
   "execution_count": 25,
   "metadata": {
    "collapsed": false,
    "scrolled": false
   },
   "outputs": [
    {
     "name": "stdout",
     "output_type": "stream",
     "text": [
      "476\n",
      "27230\n",
      "22\n"
     ]
    }
   ],
   "source": [
    "print(len(data.ix[data.borough == \" N/A \"]))\n",
    "print(len(data))\n",
    "print(len(set(data.ix[data.borough == \" N/A \"])))"
   ]
  },
  {
   "cell_type": "code",
   "execution_count": 28,
   "metadata": {
    "collapsed": false
   },
   "outputs": [
    {
     "name": "stdout",
     "output_type": "stream",
     "text": [
      "26754\n"
     ]
    },
    {
     "data": {
      "text/html": [
       "<div>\n",
       "<table border=\"1\" class=\"dataframe\">\n",
       "  <thead>\n",
       "    <tr style=\"text-align: right;\">\n",
       "      <th></th>\n",
       "      <th>index</th>\n",
       "      <th>name</th>\n",
       "      <th>neighbourhood_cleansed</th>\n",
       "      <th>city</th>\n",
       "      <th>zipcode</th>\n",
       "      <th>latitude</th>\n",
       "      <th>longitude</th>\n",
       "      <th>is_location_exact</th>\n",
       "      <th>property_type</th>\n",
       "      <th>room_type</th>\n",
       "      <th>...</th>\n",
       "      <th>bedrooms</th>\n",
       "      <th>beds</th>\n",
       "      <th>square_feet</th>\n",
       "      <th>review_scores_value</th>\n",
       "      <th>day_price</th>\n",
       "      <th>week_price</th>\n",
       "      <th>month_price</th>\n",
       "      <th>price_sqft</th>\n",
       "      <th>borough</th>\n",
       "      <th>district</th>\n",
       "    </tr>\n",
       "  </thead>\n",
       "  <tbody>\n",
       "    <tr>\n",
       "      <th>0</th>\n",
       "      <td>0</td>\n",
       "      <td>Stay like a real New Yorker!</td>\n",
       "      <td>Midtown East</td>\n",
       "      <td>New York</td>\n",
       "      <td>10022</td>\n",
       "      <td>40.756852</td>\n",
       "      <td>-73.964754</td>\n",
       "      <td>t</td>\n",
       "      <td>Apartment</td>\n",
       "      <td>Entire home/apt</td>\n",
       "      <td>...</td>\n",
       "      <td>1</td>\n",
       "      <td>1</td>\n",
       "      <td>NaN</td>\n",
       "      <td>9</td>\n",
       "      <td>160</td>\n",
       "      <td>1000</td>\n",
       "      <td>4800</td>\n",
       "      <td>NaN</td>\n",
       "      <td>Manhattan</td>\n",
       "      <td>Gramercy Park and Murray Hill</td>\n",
       "    </tr>\n",
       "    <tr>\n",
       "      <th>1</th>\n",
       "      <td>2</td>\n",
       "      <td>Option of 2 Beds w Private Bathroom</td>\n",
       "      <td>Bushwick</td>\n",
       "      <td>Brooklyn</td>\n",
       "      <td>11221</td>\n",
       "      <td>40.692189</td>\n",
       "      <td>-73.924120</td>\n",
       "      <td>t</td>\n",
       "      <td>Apartment</td>\n",
       "      <td>Private room</td>\n",
       "      <td>...</td>\n",
       "      <td>1</td>\n",
       "      <td>2</td>\n",
       "      <td>NaN</td>\n",
       "      <td>10</td>\n",
       "      <td>58</td>\n",
       "      <td>406</td>\n",
       "      <td>1740</td>\n",
       "      <td>NaN</td>\n",
       "      <td>Brooklyn</td>\n",
       "      <td>Bushwick and Williamsburg</td>\n",
       "    </tr>\n",
       "  </tbody>\n",
       "</table>\n",
       "<p>2 rows × 22 columns</p>\n",
       "</div>"
      ],
      "text/plain": [
       "   index                                 name neighbourhood_cleansed  \\\n",
       "0      0        Stay like a real New Yorker!            Midtown East   \n",
       "1      2  Option of 2 Beds w Private Bathroom               Bushwick   \n",
       "\n",
       "       city zipcode   latitude  longitude is_location_exact property_type  \\\n",
       "0  New York   10022  40.756852 -73.964754                 t     Apartment   \n",
       "1  Brooklyn   11221  40.692189 -73.924120                 t     Apartment   \n",
       "\n",
       "         room_type              ...                bedrooms  beds  \\\n",
       "0  Entire home/apt              ...                       1     1   \n",
       "1     Private room              ...                       1     2   \n",
       "\n",
       "   square_feet  review_scores_value  day_price  week_price  month_price  \\\n",
       "0          NaN                    9        160        1000         4800   \n",
       "1          NaN                   10         58         406         1740   \n",
       "\n",
       "   price_sqft    borough                       district  \n",
       "0         NaN  Manhattan  Gramercy Park and Murray Hill  \n",
       "1         NaN   Brooklyn      Bushwick and Williamsburg  \n",
       "\n",
       "[2 rows x 22 columns]"
      ]
     },
     "execution_count": 28,
     "metadata": {},
     "output_type": "execute_result"
    }
   ],
   "source": [
    "df_all = data.ix[[ind for ind in range(nrow) if data.borough[ind] != \" N/A \"],]\n",
    "\n",
    "print(len(df_all))\n",
    "df_all.head(2)"
   ]
  },
  {
   "cell_type": "code",
   "execution_count": null,
   "metadata": {
    "collapsed": true
   },
   "outputs": [],
   "source": [
    "df_all = df_all.drop(['index'], axis = 1)"
   ]
  },
  {
   "cell_type": "markdown",
   "metadata": {},
   "source": [
    "# Export data"
   ]
  },
  {
   "cell_type": "code",
   "execution_count": 45,
   "metadata": {
    "collapsed": false
   },
   "outputs": [],
   "source": [
    "df_all.to_csv(\"cleaned_housing_data_all.csv\")"
   ]
  },
  {
   "cell_type": "markdown",
   "metadata": {},
   "source": [
    "  \n",
    "  \n",
    "  \n",
    "  \n",
    "  "
   ]
  }
 ],
 "metadata": {
  "kernelspec": {
   "display_name": "Python 3",
   "language": "python",
   "name": "python3"
  },
  "language_info": {
   "codemirror_mode": {
    "name": "ipython",
    "version": 3
   },
   "file_extension": ".py",
   "mimetype": "text/x-python",
   "name": "python",
   "nbconvert_exporter": "python",
   "pygments_lexer": "ipython3",
   "version": "3.4.3"
  }
 },
 "nbformat": 4,
 "nbformat_minor": 0
}
