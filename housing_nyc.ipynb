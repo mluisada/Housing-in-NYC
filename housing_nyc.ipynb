{
 "cells": [
  {
   "cell_type": "markdown",
   "metadata": {},
   "source": [
    "# Import library"
   ]
  },
  {
   "cell_type": "code",
   "execution_count": 1,
   "metadata": {
    "collapsed": true
   },
   "outputs": [],
   "source": [
    "import pandas as pd\n",
    "import numpy as np\n",
    "import matplotlib.pyplot as plt\n",
    "import csv\n",
    "import re\n",
    "import math"
   ]
  },
  {
   "cell_type": "code",
   "execution_count": 2,
   "metadata": {
    "collapsed": false
   },
   "outputs": [],
   "source": [
    "%matplotlib inline"
   ]
  },
  {
   "cell_type": "markdown",
   "metadata": {},
   "source": [
    "# Raw data"
   ]
  },
  {
   "cell_type": "code",
   "execution_count": 3,
   "metadata": {
    "collapsed": false,
    "scrolled": true
   },
   "outputs": [],
   "source": [
    "data0 = pd.read_csv('listings.csv')"
   ]
  },
  {
   "cell_type": "code",
   "execution_count": 4,
   "metadata": {
    "collapsed": false,
    "scrolled": false
   },
   "outputs": [
    {
     "data": {
      "text/plain": [
       "array(['id', 'scrape_id', 'last_scraped', 'name', 'picture_url', 'host_id',\n",
       "       'host_name', 'host_since', 'host_picture_url', 'street',\n",
       "       'neighbourhood', 'neighbourhood_cleansed', 'city', 'state',\n",
       "       'zipcode', 'market', 'country', 'latitude', 'longitude',\n",
       "       'is_location_exact', 'property_type', 'room_type', 'accommodates',\n",
       "       'bathrooms', 'bedrooms', 'beds', 'bed_type', 'square_feet', 'price',\n",
       "       'weekly_price', 'monthly_price', 'guests_included', 'extra_people',\n",
       "       'minimum_nights', 'maximum_nights', 'calendar_updated',\n",
       "       'availability_30', 'availability_60', 'availability_90',\n",
       "       'availability_365', 'calendar_last_scraped', 'number_of_reviews',\n",
       "       'first_review', 'last_review', 'review_scores_rating',\n",
       "       'review_scores_accuracy', 'review_scores_cleanliness',\n",
       "       'review_scores_checkin', 'review_scores_communication',\n",
       "       'review_scores_location', 'review_scores_value',\n",
       "       'host_listing_count'], dtype=object)"
      ]
     },
     "execution_count": 4,
     "metadata": {},
     "output_type": "execute_result"
    }
   ],
   "source": [
    "# list of all variables\n",
    "data0.columns.values"
   ]
  },
  {
   "cell_type": "code",
   "execution_count": 5,
   "metadata": {
    "collapsed": false
   },
   "outputs": [
    {
     "data": {
      "text/plain": [
       "27392"
      ]
     },
     "execution_count": 5,
     "metadata": {},
     "output_type": "execute_result"
    }
   ],
   "source": [
    "nrow = len(data0.index)\n",
    "nrow"
   ]
  },
  {
   "cell_type": "markdown",
   "metadata": {},
   "source": [
    "# Select relevant variables"
   ]
  },
  {
   "cell_type": "code",
   "execution_count": 6,
   "metadata": {
    "collapsed": true
   },
   "outputs": [],
   "source": [
    "data = data0[['name', 'neighbourhood_cleansed', 'city', 'zipcode', 'latitude', 'longitude', 'is_location_exact',\n",
    "          'property_type', 'room_type', 'accommodates','bathrooms', 'bedrooms', 'beds', 'square_feet', 'price',\n",
    "           'weekly_price', 'monthly_price', 'review_scores_value']]"
   ]
  },
  {
   "cell_type": "code",
   "execution_count": 7,
   "metadata": {
    "collapsed": false,
    "scrolled": true
   },
   "outputs": [
    {
     "data": {
      "text/html": [
       "<div>\n",
       "<table border=\"1\" class=\"dataframe\">\n",
       "  <thead>\n",
       "    <tr style=\"text-align: right;\">\n",
       "      <th></th>\n",
       "      <th>name</th>\n",
       "      <th>neighbourhood_cleansed</th>\n",
       "      <th>city</th>\n",
       "      <th>zipcode</th>\n",
       "      <th>latitude</th>\n",
       "      <th>longitude</th>\n",
       "      <th>is_location_exact</th>\n",
       "      <th>property_type</th>\n",
       "      <th>room_type</th>\n",
       "      <th>accommodates</th>\n",
       "      <th>bathrooms</th>\n",
       "      <th>bedrooms</th>\n",
       "      <th>beds</th>\n",
       "      <th>square_feet</th>\n",
       "      <th>price</th>\n",
       "      <th>weekly_price</th>\n",
       "      <th>monthly_price</th>\n",
       "      <th>review_scores_value</th>\n",
       "    </tr>\n",
       "  </thead>\n",
       "  <tbody>\n",
       "    <tr>\n",
       "      <th>0</th>\n",
       "      <td>Stay like a real New Yorker!</td>\n",
       "      <td>Midtown East</td>\n",
       "      <td>New York</td>\n",
       "      <td>10022</td>\n",
       "      <td>40.756852</td>\n",
       "      <td>-73.964754</td>\n",
       "      <td>t</td>\n",
       "      <td>Apartment</td>\n",
       "      <td>Entire home/apt</td>\n",
       "      <td>2</td>\n",
       "      <td>1</td>\n",
       "      <td>1</td>\n",
       "      <td>1</td>\n",
       "      <td>NaN</td>\n",
       "      <td>$160.00</td>\n",
       "      <td>$1,000.00</td>\n",
       "      <td>NaN</td>\n",
       "      <td>9</td>\n",
       "    </tr>\n",
       "    <tr>\n",
       "      <th>1</th>\n",
       "      <td>Apartment 20 Minutes Times Square</td>\n",
       "      <td>Hamilton Heights</td>\n",
       "      <td>New York</td>\n",
       "      <td>NaN</td>\n",
       "      <td>40.830599</td>\n",
       "      <td>-73.941014</td>\n",
       "      <td>f</td>\n",
       "      <td>Apartment</td>\n",
       "      <td>Entire home/apt</td>\n",
       "      <td>10</td>\n",
       "      <td>1</td>\n",
       "      <td>3</td>\n",
       "      <td>3</td>\n",
       "      <td>NaN</td>\n",
       "      <td>$105.00</td>\n",
       "      <td>NaN</td>\n",
       "      <td>NaN</td>\n",
       "      <td>8</td>\n",
       "    </tr>\n",
       "  </tbody>\n",
       "</table>\n",
       "</div>"
      ],
      "text/plain": [
       "                                name neighbourhood_cleansed      city zipcode  \\\n",
       "0      Stay like a real New Yorker!            Midtown East  New York   10022   \n",
       "1  Apartment 20 Minutes Times Square       Hamilton Heights  New York     NaN   \n",
       "\n",
       "    latitude  longitude is_location_exact property_type        room_type  \\\n",
       "0  40.756852 -73.964754                 t     Apartment  Entire home/apt   \n",
       "1  40.830599 -73.941014                 f     Apartment  Entire home/apt   \n",
       "\n",
       "   accommodates  bathrooms  bedrooms  beds  square_feet    price weekly_price  \\\n",
       "0             2          1         1     1          NaN  $160.00    $1,000.00   \n",
       "1            10          1         3     3          NaN  $105.00          NaN   \n",
       "\n",
       "  monthly_price  review_scores_value  \n",
       "0           NaN                    9  \n",
       "1           NaN                    8  "
      ]
     },
     "execution_count": 7,
     "metadata": {},
     "output_type": "execute_result"
    }
   ],
   "source": [
    "data.head(2)"
   ]
  },
  {
   "cell_type": "markdown",
   "metadata": {},
   "source": [
    "# Cleaning data"
   ]
  },
  {
   "cell_type": "markdown",
   "metadata": {},
   "source": [
    "## Prices : convert into right format, replace missing values"
   ]
  },
  {
   "cell_type": "code",
   "execution_count": 8,
   "metadata": {
    "collapsed": false
   },
   "outputs": [],
   "source": [
    "day_price = []\n",
    "for i in range(nrow):\n",
    "    # remove commas ans $ sign, convert into float\n",
    "    day_price.append((float(data.price[i].replace(',','')[1:])))\n",
    "\n",
    "    \n",
    "# there are null values for weekly / monthly prices\n",
    "# use daily price to fill missing values\n",
    "\n",
    "week_price, month_price = [], []    \n",
    "for i in range(nrow):\n",
    "    if pd.isnull(data.weekly_price[i]) == True :\n",
    "        week_price.append(7*day_price[i])\n",
    "    else :\n",
    "        week_price.append(float(data.weekly_price[i].replace(',','')[1:]))\n",
    "        \n",
    "for i in range(nrow):\n",
    "    if pd.isnull(data.monthly_price[i]) == True :\n",
    "        month_price.append(30*day_price[i])\n",
    "    else :\n",
    "        month_price.append(float(data.monthly_price[i].replace(',','')[1:]))"
   ]
  },
  {
   "cell_type": "code",
   "execution_count": 9,
   "metadata": {
    "collapsed": false
   },
   "outputs": [],
   "source": [
    "data = data.drop(['price', 'weekly_price', 'monthly_price'], axis = 1)"
   ]
  },
  {
   "cell_type": "code",
   "execution_count": 10,
   "metadata": {
    "collapsed": false
   },
   "outputs": [],
   "source": [
    "data['day_price'] = day_price\n",
    "data['week_price'] = week_price\n",
    "data['month_price'] = month_price"
   ]
  },
  {
   "cell_type": "markdown",
   "metadata": {},
   "source": [
    "## New variable : monthly price per square foot"
   ]
  },
  {
   "cell_type": "code",
   "execution_count": 11,
   "metadata": {
    "collapsed": false
   },
   "outputs": [],
   "source": [
    "price_sqft = []\n",
    "for i in range(nrow):\n",
    "    if pd.isnull(data.square_feet[i]) == False and data.square_feet[i] != 0:\n",
    "        price_sqft.append(round(data.month_price[i]/data.square_feet[i], 2))\n",
    "    else :\n",
    "        price_sqft.append(None)"
   ]
  },
  {
   "cell_type": "code",
   "execution_count": 12,
   "metadata": {
    "collapsed": false
   },
   "outputs": [],
   "source": [
    "data['price_sqft'] = price_sqft"
   ]
  },
  {
   "cell_type": "markdown",
   "metadata": {},
   "source": [
    "## Aggregate neighbourhoods"
   ]
  },
  {
   "cell_type": "code",
   "execution_count": 13,
   "metadata": {
    "collapsed": false
   },
   "outputs": [
    {
     "data": {
      "text/plain": [
       "186"
      ]
     },
     "execution_count": 13,
     "metadata": {},
     "output_type": "execute_result"
    }
   ],
   "source": [
    "len(set(data.neighbourhood_cleansed)) \n",
    "# 186 different values with duplicates sometimes"
   ]
  },
  {
   "cell_type": "markdown",
   "metadata": {},
   "source": [
    "There are too many different names of neighborhoods. Sometimes, two names represent the same district. We rename them using the zipcodes. This website gives the correspondence between zipcodes, districts and neighborhoods. https://www.health.ny.gov/statistics/cancer/registry/appendix/neighborhoods.htm"
   ]
  },
  {
   "cell_type": "markdown",
   "metadata": {},
   "source": [
    "We verify that there are not many missing values in the zipcode column less than 1%"
   ]
  },
  {
   "cell_type": "code",
   "execution_count": 14,
   "metadata": {
    "collapsed": false
   },
   "outputs": [
    {
     "data": {
      "text/plain": [
       "0.9940858644859814"
      ]
     },
     "execution_count": 14,
     "metadata": {},
     "output_type": "execute_result"
    }
   ],
   "source": [
    "# list of indices where zipcode is missing\n",
    "non_missing_zip = [ind for ind in range(nrow) if pd.isnull(data.zipcode)[ind] == False] \n",
    "# get the proportion\n",
    "len(non_missing_zip)/nrow \n",
    "# returns 0.994"
   ]
  },
  {
   "cell_type": "markdown",
   "metadata": {},
   "source": [
    "We can remove these missing values"
   ]
  },
  {
   "cell_type": "code",
   "execution_count": 15,
   "metadata": {
    "collapsed": true
   },
   "outputs": [],
   "source": [
    "data = data.ix[non_missing_zip,]\n",
    "# reset indices\n",
    "data = data.reset_index()"
   ]
  },
  {
   "cell_type": "code",
   "execution_count": 16,
   "metadata": {
    "collapsed": true
   },
   "outputs": [],
   "source": [
    "# update new number rows\n",
    "nrow = len(data.index)"
   ]
  },
  {
   "cell_type": "markdown",
   "metadata": {},
   "source": [
    "### Change city column"
   ]
  },
  {
   "cell_type": "code",
   "execution_count": 17,
   "metadata": {
    "collapsed": false
   },
   "outputs": [],
   "source": [
    "manhattan_zip = ['10026' , '10027' , '10030' , '10037' , '10039' , \n",
    "                 '10001' , '10011' , '10018' , '10019' , '10020' , '10036' , \n",
    "                 '10029' , '10035' , \n",
    "                 '10010' , '10016' , '10017' , '10022' , \n",
    "                 '10012' , '10013' , '10014' , \n",
    "                 '10004' , '10005' , '10006' , '10007' , '10038' , '10280' , \n",
    "                 '10002' , '10003' , '10009' , \n",
    "                 '10021' , '10028' , '10044' , '10065' , '10075' , '10128' , \n",
    "                 '10023' , '10024' , '10025' , \n",
    "                 '10031' , '10032' , '10033' , '10034' , '10040']"
   ]
  },
  {
   "cell_type": "code",
   "execution_count": 18,
   "metadata": {
    "collapsed": false
   },
   "outputs": [],
   "source": [
    "brooklyn_zip = ['11212','11213','11216','11233','11238',\n",
    "                '11209','11214','11228',\n",
    "                '11204','11218','11219','11230',\n",
    "                '11234','11236','11239',\n",
    "                '11223','11224','11229','11235',\n",
    "                '11201','11205','11215','11217','11231',\n",
    "                '11203','11210','11225','11226',\n",
    "                '11207','11208',\n",
    "                '11211','11222',\n",
    "                '11220','11232',\n",
    "                '11206','11221','11237']"
   ]
  },
  {
   "cell_type": "markdown",
   "metadata": {},
   "source": [
    "#### DO THE SAME FOR QUEENS, BRONX etc"
   ]
  },
  {
   "cell_type": "code",
   "execution_count": 19,
   "metadata": {
    "collapsed": false
   },
   "outputs": [],
   "source": [
    "borough = []\n",
    "\n",
    "for i in range(nrow):\n",
    "    if data.zipcode[i] in manhattan_zip :\n",
    "        borough.append(\"Manhattan\")\n",
    "    elif data.zipcode[i] in brooklyn_zip :\n",
    "        borough.append(\"Brooklyn\")\n",
    "    else :\n",
    "        borough.append(\"Other\")"
   ]
  },
  {
   "cell_type": "code",
   "execution_count": 20,
   "metadata": {
    "collapsed": false
   },
   "outputs": [],
   "source": [
    "district = []\n",
    "\n",
    "for i in range(nrow):\n",
    "    # Manhattan\n",
    "    if data.zipcode[i] in ['10026' , '10027' , '10030' , '10037' , '10039']:\n",
    "        district.append('Central Harlem')\n",
    "    elif data.zipcode[i] in ['10001' , '10011' , '10018' , '10019' , '10020' , '10036']:\n",
    "        district.append('Chelsea and Clinton')\n",
    "    elif data.zipcode[i] in ['10029' , '10035']:\n",
    "        district.append('East Harlem')\n",
    "    elif data.zipcode[i] in ['10010' , '10016' , '10017' , '10022'] :\n",
    "        district.append('Gramercy Park and Murray Hill')\n",
    "    elif data.zipcode[i] in ['10012' , '10013' , '10014'] :\n",
    "        district.append('Greenwich Village and Soho')\n",
    "    elif data.zipcode[i] in ['10004' , '10005' , '10006' , '10007' , '10038' , '10280'] :\n",
    "        district.append('Lower Manhattan')\n",
    "    elif data.zipcode[i] in ['10002' , '10003' , '10009'] :\n",
    "        district.append('Lower East Side')\n",
    "    elif data.zipcode[i] in ['10021' , '10028' , '10044' , '10065' , '10075' , '10128'] :\n",
    "        district.append('Upper East Side')\n",
    "    elif data.zipcode[i] in ['10023' , '10024' , '10025'] :\n",
    "        district.append('Upper West Side')\n",
    "    elif data.zipcode[i] in ['10031' , '10032' , '10033' , '10034' , '10040'] :\n",
    "        district.append('Inwood and Washington Heights')\n",
    "    \n",
    "    # Brooklyn, etc\n",
    "    else :\n",
    "        district.append('Other')\n",
    "     "
   ]
  },
  {
   "cell_type": "code",
   "execution_count": 21,
   "metadata": {
    "collapsed": false
   },
   "outputs": [],
   "source": [
    "data = data.drop(['city', 'neighbourhood_cleansed'], axis = 1)"
   ]
  },
  {
   "cell_type": "code",
   "execution_count": 22,
   "metadata": {
    "collapsed": false
   },
   "outputs": [],
   "source": [
    "data['district'] = district\n",
    "data['borough'] = borough"
   ]
  },
  {
   "cell_type": "markdown",
   "metadata": {},
   "source": [
    "#### AT THE MOMENT LET'S WORK ON MANHATTAN ONLY, TOO MANY NEIGHBOURHOODS"
   ]
  },
  {
   "cell_type": "code",
   "execution_count": 23,
   "metadata": {
    "collapsed": false
   },
   "outputs": [],
   "source": [
    "df = data.ix[[ind for ind in range(nrow) if data.zipcode[ind] in manhattan_zip],]\n",
    "df = df.reset_index()"
   ]
  },
  {
   "cell_type": "code",
   "execution_count": 24,
   "metadata": {
    "collapsed": false
   },
   "outputs": [
    {
     "data": {
      "text/plain": [
       "array(['level_0', 'index', 'name', 'zipcode', 'latitude', 'longitude',\n",
       "       'is_location_exact', 'property_type', 'room_type', 'accommodates',\n",
       "       'bathrooms', 'bedrooms', 'beds', 'square_feet',\n",
       "       'review_scores_value', 'day_price', 'week_price', 'month_price',\n",
       "       'price_sqft', 'district', 'borough'], dtype=object)"
      ]
     },
     "execution_count": 24,
     "metadata": {},
     "output_type": "execute_result"
    }
   ],
   "source": [
    "# column names\n",
    "df.columns.values"
   ]
  },
  {
   "cell_type": "code",
   "execution_count": 25,
   "metadata": {
    "collapsed": true
   },
   "outputs": [],
   "source": [
    "df = df.drop(['level_0','index'], axis = 1)"
   ]
  },
  {
   "cell_type": "markdown",
   "metadata": {},
   "source": [
    "  \n",
    "  \n",
    "  \n",
    "  \n",
    "  "
   ]
  },
  {
   "cell_type": "markdown",
   "metadata": {},
   "source": [
    "# Data exploration"
   ]
  },
  {
   "cell_type": "markdown",
   "metadata": {},
   "source": [
    "Need help on plots ?\n",
    "- http://matplotlib.org/api/pyplot_api.html\n",
    "- http://matplotlib.org/examples/pylab_examples/boxplot_demo.html\n",
    "\n",
    "For colored boxplots these are very good : \n",
    "- http://matplotlib.org/gallery.html\n",
    "- http://matplotlib.org/examples/pylab_examples/boxplot_demo.html"
   ]
  },
  {
   "cell_type": "markdown",
   "metadata": {},
   "source": [
    "## Continous, categorical variables and coordinates"
   ]
  },
  {
   "cell_type": "code",
   "execution_count": 26,
   "metadata": {
    "collapsed": false,
    "scrolled": true
   },
   "outputs": [],
   "source": [
    "loc_var = ['latitude', 'longitude']\n",
    "\n",
    "# categorical variables\n",
    "categ_var = ['name', 'district', 'borough', 'zipcode', 'is_location_exact', 'property_type', 'room_type']\n",
    "\n",
    "# continuous \n",
    "cont_var = [x for x in df.columns.values if x not in categ_var + loc_var]"
   ]
  },
  {
   "cell_type": "markdown",
   "metadata": {},
   "source": [
    "To create list comprehensions as above : http://www.secnetix.de/olli/Python/list_comprehensions.hawk"
   ]
  },
  {
   "cell_type": "markdown",
   "metadata": {},
   "source": [
    "## Summary on continuous variables"
   ]
  },
  {
   "cell_type": "code",
   "execution_count": 27,
   "metadata": {
    "collapsed": false,
    "scrolled": true
   },
   "outputs": [
    {
     "data": {
      "text/html": [
       "<div>\n",
       "<table border=\"1\" class=\"dataframe\">\n",
       "  <thead>\n",
       "    <tr style=\"text-align: right;\">\n",
       "      <th></th>\n",
       "      <th>accommodates</th>\n",
       "      <th>bathrooms</th>\n",
       "      <th>bedrooms</th>\n",
       "      <th>beds</th>\n",
       "      <th>square_feet</th>\n",
       "      <th>review_scores_value</th>\n",
       "      <th>day_price</th>\n",
       "      <th>week_price</th>\n",
       "      <th>month_price</th>\n",
       "      <th>price_sqft</th>\n",
       "    </tr>\n",
       "  </thead>\n",
       "  <tbody>\n",
       "    <tr>\n",
       "      <th>count</th>\n",
       "      <td>15414.000000</td>\n",
       "      <td>15170.000000</td>\n",
       "      <td>15331.000000</td>\n",
       "      <td>15353.000000</td>\n",
       "      <td>541.000000</td>\n",
       "      <td>10483.000000</td>\n",
       "      <td>15414.000000</td>\n",
       "      <td>15414.000000</td>\n",
       "      <td>15414.000000</td>\n",
       "      <td>507.000000</td>\n",
       "    </tr>\n",
       "    <tr>\n",
       "      <th>mean</th>\n",
       "      <td>2.880368</td>\n",
       "      <td>1.099967</td>\n",
       "      <td>1.084404</td>\n",
       "      <td>1.486485</td>\n",
       "      <td>679.314233</td>\n",
       "      <td>9.099017</td>\n",
       "      <td>206.144998</td>\n",
       "      <td>1404.602050</td>\n",
       "      <td>5713.610614</td>\n",
       "      <td>101.102781</td>\n",
       "    </tr>\n",
       "    <tr>\n",
       "      <th>std</th>\n",
       "      <td>1.624230</td>\n",
       "      <td>0.334932</td>\n",
       "      <td>0.655290</td>\n",
       "      <td>0.902830</td>\n",
       "      <td>688.384694</td>\n",
       "      <td>0.921826</td>\n",
       "      <td>257.409412</td>\n",
       "      <td>1779.852676</td>\n",
       "      <td>7658.473651</td>\n",
       "      <td>765.465495</td>\n",
       "    </tr>\n",
       "    <tr>\n",
       "      <th>min</th>\n",
       "      <td>1.000000</td>\n",
       "      <td>0.000000</td>\n",
       "      <td>0.000000</td>\n",
       "      <td>1.000000</td>\n",
       "      <td>0.000000</td>\n",
       "      <td>2.000000</td>\n",
       "      <td>10.000000</td>\n",
       "      <td>70.000000</td>\n",
       "      <td>300.000000</td>\n",
       "      <td>0.470000</td>\n",
       "    </tr>\n",
       "    <tr>\n",
       "      <th>25%</th>\n",
       "      <td>2.000000</td>\n",
       "      <td>1.000000</td>\n",
       "      <td>1.000000</td>\n",
       "      <td>1.000000</td>\n",
       "      <td>380.000000</td>\n",
       "      <td>9.000000</td>\n",
       "      <td>105.000000</td>\n",
       "      <td>700.000000</td>\n",
       "      <td>2850.000000</td>\n",
       "      <td>5.360000</td>\n",
       "    </tr>\n",
       "    <tr>\n",
       "      <th>50%</th>\n",
       "      <td>2.000000</td>\n",
       "      <td>1.000000</td>\n",
       "      <td>1.000000</td>\n",
       "      <td>1.000000</td>\n",
       "      <td>600.000000</td>\n",
       "      <td>9.000000</td>\n",
       "      <td>155.000000</td>\n",
       "      <td>1050.000000</td>\n",
       "      <td>4350.000000</td>\n",
       "      <td>8.440000</td>\n",
       "    </tr>\n",
       "    <tr>\n",
       "      <th>75%</th>\n",
       "      <td>4.000000</td>\n",
       "      <td>1.000000</td>\n",
       "      <td>1.000000</td>\n",
       "      <td>2.000000</td>\n",
       "      <td>850.000000</td>\n",
       "      <td>10.000000</td>\n",
       "      <td>225.000000</td>\n",
       "      <td>1500.000000</td>\n",
       "      <td>6000.000000</td>\n",
       "      <td>12.500000</td>\n",
       "    </tr>\n",
       "    <tr>\n",
       "      <th>max</th>\n",
       "      <td>16.000000</td>\n",
       "      <td>6.000000</td>\n",
       "      <td>8.000000</td>\n",
       "      <td>16.000000</td>\n",
       "      <td>12000.000000</td>\n",
       "      <td>10.000000</td>\n",
       "      <td>6950.000000</td>\n",
       "      <td>48650.000000</td>\n",
       "      <td>208500.000000</td>\n",
       "      <td>8250.000000</td>\n",
       "    </tr>\n",
       "  </tbody>\n",
       "</table>\n",
       "</div>"
      ],
      "text/plain": [
       "       accommodates     bathrooms      bedrooms          beds   square_feet  \\\n",
       "count  15414.000000  15170.000000  15331.000000  15353.000000    541.000000   \n",
       "mean       2.880368      1.099967      1.084404      1.486485    679.314233   \n",
       "std        1.624230      0.334932      0.655290      0.902830    688.384694   \n",
       "min        1.000000      0.000000      0.000000      1.000000      0.000000   \n",
       "25%        2.000000      1.000000      1.000000      1.000000    380.000000   \n",
       "50%        2.000000      1.000000      1.000000      1.000000    600.000000   \n",
       "75%        4.000000      1.000000      1.000000      2.000000    850.000000   \n",
       "max       16.000000      6.000000      8.000000     16.000000  12000.000000   \n",
       "\n",
       "       review_scores_value     day_price    week_price    month_price  \\\n",
       "count         10483.000000  15414.000000  15414.000000   15414.000000   \n",
       "mean              9.099017    206.144998   1404.602050    5713.610614   \n",
       "std               0.921826    257.409412   1779.852676    7658.473651   \n",
       "min               2.000000     10.000000     70.000000     300.000000   \n",
       "25%               9.000000    105.000000    700.000000    2850.000000   \n",
       "50%               9.000000    155.000000   1050.000000    4350.000000   \n",
       "75%              10.000000    225.000000   1500.000000    6000.000000   \n",
       "max              10.000000   6950.000000  48650.000000  208500.000000   \n",
       "\n",
       "        price_sqft  \n",
       "count   507.000000  \n",
       "mean    101.102781  \n",
       "std     765.465495  \n",
       "min       0.470000  \n",
       "25%       5.360000  \n",
       "50%       8.440000  \n",
       "75%      12.500000  \n",
       "max    8250.000000  "
      ]
     },
     "execution_count": 27,
     "metadata": {},
     "output_type": "execute_result"
    }
   ],
   "source": [
    "df[cont_var].describe()"
   ]
  },
  {
   "cell_type": "markdown",
   "metadata": {},
   "source": [
    "## Price per day : global analysis"
   ]
  },
  {
   "cell_type": "code",
   "execution_count": 55,
   "metadata": {
    "collapsed": false
   },
   "outputs": [
    {
     "data": {
      "image/png": "[encoded data removed]",
      "text/plain": [
       "<matplotlib.figure.Figure at 0x10cafca90>"
      ]
     },
     "metadata": {},
     "output_type": "display_data"
    }
   ],
   "source": [
    "fig, axes = plt.subplots(nrows = 1, ncols = 2, figsize = (13,8))\n",
    "fig.subplots_adjust(wspace= 0.5)\n",
    "# to adjust whitespace between subplots : plt.subplots_adjust(wspace=0.01,hspace=0.01)\n",
    "\n",
    "# rectangular box plot\n",
    "bplot1 = axes[0].boxplot(df.day_price, 0, 'bD', patch_artist = True)\n",
    "# notch shape box plot (notch = 1)\n",
    "bplot2 = axes[1].boxplot(df.day_price, 1, '',  patch_artist = True)\n",
    "\n",
    "# adding horizontal grid lines\n",
    "axes[0].set_xlabel('With outliers', fontsize = 14)\n",
    "axes[1].set_xlabel('Without outliers', fontsize = 14)\n",
    "for ax in axes:\n",
    "    ax.set_ylabel('Price per day ($)', fontsize = 14)\n",
    "\n",
    "# add x-tick labels\n",
    "plt.setp(axes, xticks=[1], xticklabels=['price'])\n",
    "\n",
    "plt.suptitle('Distribution of daily rental prices in Manhattan, January 2015 \\n Airbnb data \\n', \n",
    "             fontsize = 16)\n",
    "\n",
    "plt.show()\n"
   ]
  },
  {
   "cell_type": "markdown",
   "metadata": {},
   "source": [
    "## Price per district"
   ]
  },
  {
   "cell_type": "markdown",
   "metadata": {},
   "source": [
    "### Example : daily price in Midtown versus Harlem versus Greenwich Village"
   ]
  },
  {
   "cell_type": "code",
   "execution_count": 35,
   "metadata": {
    "collapsed": true
   },
   "outputs": [],
   "source": [
    "df_UpperEast = df.ix[[ind for ind in list(df.index) if df.district[ind] == 'Upper East Side'],]\n",
    "df_EastHarlem = df.ix[[ind for ind in list(df.index) if df.district[ind] == 'East Harlem'],]\n",
    "df_Greenwich = df.ix[[ind for ind in list(df.index) if df.district[ind] == 'Greenwich Village and Soho'],]"
   ]
  },
  {
   "cell_type": "code",
   "execution_count": 51,
   "metadata": {
    "collapsed": false
   },
   "outputs": [
    {
     "data": {
      "image/png": "[encoded data removed]",
      "text/plain": [
       "<matplotlib.figure.Figure at 0x10cb97080>"
      ]
     },
     "metadata": {},
     "output_type": "display_data"
    }
   ],
   "source": [
    "fig, axes = plt.subplots(figsize=(14, 10))\n",
    "all_data = [df_UpperEast.day_price, df_EastHarlem.day_price, df_Greenwich.day_price]\n",
    "bplot = plt.boxplot(all_data, 0, '', # to remove outliers\n",
    "                        vert=True,   # vertical box aligmnent\n",
    "                        patch_artist=True)   # fill with color\n",
    "# to display outliers : write instead : 'bD' (blue dots) or 'rD' (red dots) etc.\n",
    "\n",
    "\n",
    "# fill with colors\n",
    "colors = ['pink', 'lightblue', 'lightgreen']\n",
    "for patch, color in zip(bplot['boxes'], colors):\n",
    "    patch.set_facecolor(color)\n",
    "\n",
    "\n",
    "# adding horizontal grid lines\n",
    "#for ax in axes:\n",
    "    #ax.yaxis.grid(True)\n",
    "    #ax.set_xticks([y+1 for y in range(len(all_data))], )\n",
    "axes.set_xlabel('Districts of Manhattan', fontsize = 14)\n",
    "axes.set_ylabel('Price per day ($)', fontsize = 14)\n",
    "\n",
    "    \n",
    "# add x-tick labels\n",
    "plt.setp(axes, xticks=[y+1 for y in range(len(all_data))],\n",
    "         xticklabels=['Upper East', 'East Harlem', 'Greenwich and Soho'])\n",
    "\n",
    "# main title\n",
    "plt.suptitle('Distribution of daily rental prices for 3 neighborhoods \\n Manhattan, January 2015 \\n Airbnb data \\n', \n",
    "             fontsize = 16)\n",
    "\n",
    "plt.show()"
   ]
  },
  {
   "cell_type": "markdown",
   "metadata": {},
   "source": [
    "### TBD : Daily price in each district"
   ]
  },
  {
   "cell_type": "markdown",
   "metadata": {},
   "source": [
    "Now we can loop on all districts and get this graphical comparison"
   ]
  },
  {
   "cell_type": "code",
   "execution_count": null,
   "metadata": {
    "collapsed": true
   },
   "outputs": [],
   "source": []
  },
  {
   "cell_type": "markdown",
   "metadata": {},
   "source": [
    "## Same analysis for number of bedrooms (global and per district)"
   ]
  },
  {
   "cell_type": "code",
   "execution_count": null,
   "metadata": {
    "collapsed": true
   },
   "outputs": [],
   "source": []
  },
  {
   "cell_type": "code",
   "execution_count": null,
   "metadata": {
    "collapsed": true
   },
   "outputs": [],
   "source": []
  },
  {
   "cell_type": "markdown",
   "metadata": {},
   "source": [
    "## Same analysis for appartment surface (global and per district)"
   ]
  },
  {
   "cell_type": "code",
   "execution_count": null,
   "metadata": {
    "collapsed": true
   },
   "outputs": [],
   "source": []
  },
  {
   "cell_type": "code",
   "execution_count": null,
   "metadata": {
    "collapsed": true
   },
   "outputs": [],
   "source": []
  },
  {
   "cell_type": "markdown",
   "metadata": {},
   "source": [
    "## Number of appartments per district"
   ]
  },
  {
   "cell_type": "markdown",
   "metadata": {},
   "source": [
    "When you want to show the number of observations in each category :\n",
    "- https://stanford.edu/~mwaskom/software/seaborn/tutorial/categorical.html"
   ]
  },
  {
   "cell_type": "code",
   "execution_count": 27,
   "metadata": {
    "collapsed": true
   },
   "outputs": [],
   "source": [
    "import seaborn as sns\n",
    "sns.set(style=\"whitegrid\", color_codes=True)"
   ]
  },
  {
   "cell_type": "markdown",
   "metadata": {},
   "source": [
    "add Y legend on following graph"
   ]
  },
  {
   "cell_type": "code",
   "execution_count": 52,
   "metadata": {
    "collapsed": false
   },
   "outputs": [
    {
     "data": {
      "image/png": "[encoded data removed]",
      "text/plain": [
       "<matplotlib.figure.Figure at 0x10fd9ae10>"
      ]
     },
     "metadata": {},
     "output_type": "display_data"
    }
   ],
   "source": [
    "fig, axes = plt.subplots(figsize=(18, 13))\n",
    "\n",
    "sns.countplot(x=\"district\", data=df, palette=\"Reds_d\") #Greens_d, Blues_d, Purples_d, Oranges_d\n",
    "\n",
    "plt.xticks(rotation=40) \n",
    "# how to rotate tickers for seaborn : http://stackoverflow.com/questions/27037241/changing-the-rotation-of-tick-labels-in-seaborn-heatmap\n",
    "axes.set_ylabel('Number of appartments', fontsize = 14)\n",
    "axes.set_xlabel('Districts', fontsize = 14)\n",
    "\n",
    "plt.suptitle('Number of appartments available per district \\n Manhattan, January 2015 \\n Airbnb data \\n', \n",
    "             fontsize = 16)\n",
    "\n",
    "plt.show()"
   ]
  },
  {
   "cell_type": "code",
   "execution_count": null,
   "metadata": {
    "collapsed": true
   },
   "outputs": [],
   "source": []
  }
 ],
 "metadata": {
  "kernelspec": {
   "display_name": "Python 3",
   "language": "python",
   "name": "python3"
  },
  "language_info": {
   "codemirror_mode": {
    "name": "ipython",
    "version": 3
   },
   "file_extension": ".py",
   "mimetype": "text/x-python",
   "name": "python",
   "nbconvert_exporter": "python",
   "pygments_lexer": "ipython3",
   "version": "3.4.3"
  }
 },
 "nbformat": 4,
 "nbformat_minor": 0
}
